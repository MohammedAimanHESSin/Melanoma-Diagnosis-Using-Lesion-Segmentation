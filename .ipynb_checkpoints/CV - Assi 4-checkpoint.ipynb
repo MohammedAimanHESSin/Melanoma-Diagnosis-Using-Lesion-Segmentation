{
 "cells": [
  {
   "cell_type": "code",
   "execution_count": null,
   "id": "b5aface8",
   "metadata": {},
   "outputs": [],
   "source": [
    "import numpy as np \n",
    "import pandas as pd \n",
    "import cv2\n",
    "from PIL import Image\n",
    "import matplotlib.pyplot as plt\n",
    "import pandas as pd\n",
    "from skimage.transform import resize\n",
    "import tensorflow as tf\n",
    "import sklearn.model_selection\n",
    "from keras.callbacks import ModelCheckpoint, EarlyStopping ,ReduceLROnPlateau\n",
    "from keras.layers.merge import concatenate\n",
    "#from keras.layers import Input, Conv2D, Conv2DTranspose, MaxPooling2D, concatenate, Dropout , RepeatVector , Reshape\n",
    "from keras.preprocessing.image import ImageDataGenerator, array_to_img, img_to_array, load_img \n",
    "from tensorflow.keras.preprocessing import image_dataset_from_directory\n",
    "from keras import backend as K\n",
    "from keras.layers.core import Lambda, RepeatVector, Reshape\n",
    "import os"
   ]
  },
  {
   "cell_type": "code",
   "execution_count": null,
   "id": "c5b9e571",
   "metadata": {},
   "outputs": [],
   "source": [
    "train_images_path = \"E:\\kolia\\Term 9\\Computer Vision\\Assi\\Assi 4\\ISIC-2017_Training_Data\\ISIC-2017_Training_Data\" \n",
    "train_mask_path = \"E:\\kolia\\Term 9\\Computer Vision\\Assi\\Assi 4\\ISIC-2017_Training_Part1_GroundTruth\\ISIC-2017_Training_Part1_GroundTruth\"\n",
    "train_metadata_path = \"E:\\kolia\\Term 9\\Computer Vision\\Assi\\Assi 4\\ISIC-2017_Training_Data\\ISIC-2017_Training_Data\\ISIC-2017_Training_Data_metadata.csv\"\n",
    "\n",
    "val_images_path = \"E:\\kolia\\Term 9\\Computer Vision\\Assi\\Assi 4\\ISIC-2017_Validation_Data\\ISIC-2017_Validation_Data\"\n",
    "val_mask_path = \"E:\\kolia\\Term 9\\Computer Vision\\Assi\\Assi 4\\ISIC-2017_Validation_Part1_GroundTruth\\ISIC-2017_Validation_Part1_GroundTruth\"\n",
    "val_metadata_path = \"E:\\kolia\\Term 9\\Computer Vision\\Assi\\Assi 4\\ISIC-2017_Validation_Data\\ISIC-2017_Validation_Data\\ISIC-2017_Validation_Data_metadata.csv\"\n",
    "\n",
    "test_images_path = \"E:\\kolia\\Term 9\\Computer Vision\\Assi\\Assi 4\\ISIC-2017_Test_v2_Data\\ISIC-2017_Test_v2_Data\"\n",
    "test_mask_path = \"E:\\kolia\\Term 9\\Computer Vision\\Assi\\Assi 4\\ISIC-2017_Test_v2_Part1_GroundTruth\\ISIC-2017_Test_v2_Part1_GroundTruth\"\n",
    "test_metadata_path = \"E:\\kolia\\Term 9\\Computer Vision\\Assi\\Assi 4\\ISIC-2017_Test_v2_Data\\ISIC-2017_Test_v2_Data\\ISIC-2017_Test_v2_Data_metadata.csv\" "
   ]
  },
  {
   "cell_type": "code",
   "execution_count": null,
   "id": "53ccb8ed",
   "metadata": {},
   "outputs": [],
   "source": [
    "def read_metadata(path):\n",
    "    metadata_Dataframe = pd.read_csv(path)\n",
    "    metadata_Dataframe.head()\n",
    "    return metadata_Dataframe"
   ]
  },
  {
   "cell_type": "code",
   "execution_count": null,
   "id": "2c3ee969",
   "metadata": {},
   "outputs": [],
   "source": [
    "def load_images_from_folder(path,ids):\n",
    "    images = []\n",
    "    count = 0\n",
    "    for imageId in ids:\n",
    "        images.append( cv2.resize(cv2.imread(os.path.join(path,imageId+'.jpg')), (512,512), interpolation = cv2.INTER_AREA) )\n",
    "        count += 1\n",
    "        print(count)\n",
    "    return np.array(images)"
   ]
  },
  {
   "cell_type": "code",
   "execution_count": null,
   "id": "c2d7eb02",
   "metadata": {},
   "outputs": [],
   "source": [
    "def load_masks_from_folder(path,ids):\n",
    "    images = []\n",
    "    count = 0\n",
    "    for imageId in ids:\n",
    "        count += 1\n",
    "        print(count)\n",
    "        img = cv2.imread(os.path.join(path,imageId+'_segmentation.png'))        \n",
    "        img = tf.image.resize(img, (512,512), method='nearest')\n",
    "        img = tf.image.rgb_to_grayscale(img) / 255\n",
    "        if img is not None:\n",
    "            images.append(img)\n",
    "    return np.array(images)"
   ]
  },
  {
   "cell_type": "code",
   "execution_count": null,
   "id": "362e2112",
   "metadata": {},
   "outputs": [],
   "source": [
    "train_metadata = read_metadata(train_metadata_path)\n",
    "val_metadata = read_metadata(val_metadata_path)\n",
    "train_images_ids = train_metadata['image_id']\n",
    "val_images_ids = val_metadata['image_id']\n",
    "\n",
    "#train_images = load_images_from_folder(train_images_path,train_images_ids[0:100])\n",
    "#train_masks = load_masks_from_folder(train_mask_path,train_images_ids[0:100])\n",
    "#val_images = load_images_from_folder(val_images_path,val_images_ids[0:100])\n",
    "#val_masks = load_masks_from_folder(val_mask_path,val_images_ids[0:100])\n",
    "\n",
    "train_images = load_images_from_folder(train_images_path,train_images_ids)\n",
    "train_masks = load_masks_from_folder(train_mask_path,train_images_ids)\n",
    "val_images = load_images_from_folder(val_images_path,val_images_ids)\n",
    "val_masks = load_masks_from_folder(val_mask_path,val_images_ids)"
   ]
  },
  {
   "cell_type": "code",
   "execution_count": null,
   "id": "4a9b1d2c",
   "metadata": {},
   "outputs": [],
   "source": [
    "plt.figure()\n",
    "plt.imshow(train_images[0])\n",
    "plt.figure()\n",
    "plt.imshow(train_masks[0])\n",
    "train_images.shape"
   ]
  },
  {
   "cell_type": "code",
   "execution_count": null,
   "id": "e0e4541a",
   "metadata": {},
   "outputs": [],
   "source": [
    "train_metadata['age_approximate'] = pd.to_numeric(train_metadata['age_approximate'] , errors='coerce')\n",
    "val_metadata['age_approximate'] = pd.to_numeric(val_metadata['age_approximate'] , errors='coerce')\n",
    "train_metadata['age_approximate'] = train_metadata['age_approximate'] / train_metadata['age_approximate'].max(axis=0)\n",
    "val_metadata['age_approximate'] = val_metadata['age_approximate'] / val_metadata['age_approximate'].max(axis=0)"
   ]
  },
  {
   "cell_type": "code",
   "execution_count": null,
   "id": "788aaf4f",
   "metadata": {},
   "outputs": [],
   "source": [
    "label_map = {\n",
    "    'male' : 0,\n",
    "    'female' : 1\n",
    "}\n",
    "train_metadata['sex'] = train_metadata['sex'].map(label_map)\n",
    "val_metadata['sex'] = val_metadata['sex'].map(label_map)"
   ]
  },
  {
   "cell_type": "code",
   "execution_count": null,
   "id": "9735b94f",
   "metadata": {},
   "outputs": [],
   "source": [
    "train_metadata.head(5)"
   ]
  },
  {
   "cell_type": "code",
   "execution_count": null,
   "id": "c580f530",
   "metadata": {},
   "outputs": [],
   "source": [
    "val_metadata.head(5)"
   ]
  },
  {
   "cell_type": "markdown",
   "id": "529d1051",
   "metadata": {},
   "source": [
    "# TRAIN"
   ]
  },
  {
   "cell_type": "code",
   "execution_count": null,
   "id": "87324eb0",
   "metadata": {},
   "outputs": [],
   "source": [
    "callbacks = [\n",
    "    EarlyStopping(patience=3, verbose=1),\n",
    "    ReduceLROnPlateau(factor=0.8, patience=2, min_lr=0.00001, verbose=1),\n",
    "    ModelCheckpoint('tgs-salt-model-v1.h5', verbose=1, save_best_only=True)\n",
    "]"
   ]
  },
  {
   "cell_type": "code",
   "execution_count": null,
   "id": "65790a2a",
   "metadata": {},
   "outputs": [],
   "source": [
    "#ENCODING\n",
    "#First Branch (Image)\n",
    "inputImg = tf.keras.layers.Input((512,512,3) , name='image')\n",
    "b1 = tf.keras.layers.BatchNormalization()(inputImg)\n",
    "c1 = tf.keras.layers.Conv2D(64, (1, 1), activation='relu' , padding=\"same\") (b1)\n",
    "c2 = tf.keras.layers.Conv2D(64, (1, 1), activation='relu' , padding=\"same\") (c1)\n",
    "p2 = tf.keras.layers.MaxPooling2D(pool_size=(2, 2)) (c2)\n",
    "#-------------------------------------------------------------------------------------\n",
    "c1 = tf.keras.layers.Conv2D(128, (3, 3), activation='relu' , padding=\"same\") (p2)\n",
    "c2 = tf.keras.layers.Conv2D(128, (3, 3), activation='relu' , padding=\"same\") (c1)\n",
    "p2 = tf.keras.layers.MaxPooling2D(pool_size=(2, 2)) (c2)\n",
    "#-------------------------------------------------------------------------------------\n",
    "c1 = tf.keras.layers.Conv2D(256, (3, 3), activation='relu' , padding=\"same\") (p2)\n",
    "c2 = tf.keras.layers.Conv2D(256, (3, 3), activation='relu' , padding=\"same\") (c1)\n",
    "c3 = tf.keras.layers.Conv2D(265, (3, 3), activation='relu' , padding=\"same\") (c2)\n",
    "p2 = tf.keras.layers.MaxPooling2D(pool_size=(2, 2)) (c3)\n",
    "#-------------------------------------------------------------------------------------\n",
    "c1 = tf.keras.layers.Conv2D(512, (3, 3), activation='relu' , padding=\"same\") (p2)\n",
    "c2 = tf.keras.layers.Conv2D(512, (3, 3), activation='relu' , padding=\"same\") (c1)\n",
    "c3 = tf.keras.layers.Conv2D(512, (3, 3), activation='relu' , padding=\"same\") (c2)\n",
    "p2 = tf.keras.layers.MaxPooling2D(pool_size=(2, 2)) (c2)\n",
    "#-------------------------------------------------------------------------------------\n",
    "c1 = tf.keras.layers.Conv2D(512, (3, 3), activation='relu' , padding=\"same\") (p2)\n",
    "c2 = tf.keras.layers.Conv2D(512, (3, 3), activation='relu' , padding=\"same\") (c1)\n",
    "c3 = tf.keras.layers.Conv2D(512, (3, 3), activation='relu' , padding=\"same\") (c2)\n",
    "p2 = tf.keras.layers.MaxPooling2D(pool_size=(2, 2)) (c3)\n",
    "#-------------------------------------------------------------------------------------\n",
    "c1 = tf.keras.layers.Conv2D(2, (1, 1), activation='relu' , padding=\"same\") (p2)\n",
    "c2 = tf.keras.layers.Conv2D(2, (1, 1), activation='relu' , padding=\"same\") (c1)\n",
    "c3 = tf.keras.layers.Conv2D(2, (1, 1), activation='relu' , padding=\"same\") (c2)\n",
    "\n",
    "'''\n",
    "f1 = tf.keras.layers.Flatten()(p13)\n",
    "dense1 = tf.keras.layers.Dense(4096, activation='relu') (f1)\n",
    "dense2 = tf.keras.layers.Dense(4096, activation='relu') (dense1)\n",
    "'''\n",
    "\n",
    "'''\n",
    "#Second Branch (age)\n",
    "input_metadata = tf.keras.layers.Input((None,1,2), name='metadata')\n",
    "c1 = tf.keras.layers.Conv1D(2, 1,strides=1, activation='relu' , padding=\"same\")(input_metadata)\n",
    "c2 = tf.keras.layers.Conv1D(2, 1,strides=1, activation='relu' , padding=\"same\")(c1)\n",
    "c4 = tf.keras.layers.Conv1D(2, 1,strides=1, activation='relu' , padding=\"same\")(c2)\n",
    "c4 = tf.keras.layers.UpSampling2D(size=(1, 2))(c4)\n",
    "\n",
    "#Combine\n",
    "combinedBranches = concatenate([c3, c4])\n",
    "'''\n",
    "\n",
    "#c1Dec = tf.keras.layers.Conv2DTranspose(2, (3, 3),strides=(5, 5), activation='relu', padding=\"same\") (combinedBranches)\n",
    "c1Dec = tf.keras.layers.UpSampling2D(size=(32, 32))(c3)\n",
    "\n",
    "finalOutput = tf.keras.layers.Conv2D(1, (1, 1), padding=\"same\",activation='sigmoid') (c1Dec)\n",
    "\n",
    "\n",
    "model = tf.keras.Model(inputs=[inputImg], outputs=[finalOutput])\n",
    "\n",
    "\n",
    "\n",
    "model.compile(tf.keras.optimizers.Adam(\n",
    "    learning_rate=0.001,\n",
    "    beta_1=0.9,\n",
    "    beta_2=0.999,\n",
    "    epsilon=1e-07,\n",
    "    amsgrad=False,\n",
    "    name=\"Adam\"),\n",
    "    loss='binary_crossentropy',\n",
    "    metrics=['accuracy'])\n",
    "\n",
    "'''\n",
    "model.compile(optimizer=tf.keras.optimizers.RMSprop(\n",
    "    learning_rate=0.001, rho=0.9, momentum=0.0, epsilon=1e-07, centered=False,\n",
    "    name='RMSprop'),\n",
    "    loss='binary_crossentropy',\n",
    "    metrics=['accuracy'])\n",
    "'''\n",
    "model.summary()\n"
   ]
  },
  {
   "cell_type": "code",
   "execution_count": null,
   "id": "ec9efda4",
   "metadata": {},
   "outputs": [],
   "source": [
    "'''\n",
    "results = model.fit({'image': train_images, 'metadata' : train_metadata[[\"age_approximate\", \"sex\"]][0:100].to_numpy(dtype=np.float)}, train_masks, batch_size=32, epochs=50, callbacks=callbacks,\n",
    "                    validation_data=({ 'image' : val_images, 'metadata': val_metadata[[\"age_approximate\", \"sex\"]][0:100].to_numpy(dtype=np.float)}, val_masks))\n",
    "'''\n",
    "results = model.fit({'image': train_images}, train_masks, batch_size=32, epochs=20, callbacks=callbacks,\n",
    "                    validation_data=({ 'image' : val_images}, val_masks))"
   ]
  },
  {
   "cell_type": "code",
   "execution_count": null,
   "id": "3429523b",
   "metadata": {},
   "outputs": [],
   "source": []
  }
 ],
 "metadata": {
  "kernelspec": {
   "display_name": "Python 3 (ipykernel)",
   "language": "python",
   "name": "python3"
  },
  "language_info": {
   "codemirror_mode": {
    "name": "ipython",
    "version": 3
   },
   "file_extension": ".py",
   "mimetype": "text/x-python",
   "name": "python",
   "nbconvert_exporter": "python",
   "pygments_lexer": "ipython3",
   "version": "3.9.7"
  }
 },
 "nbformat": 4,
 "nbformat_minor": 5
}
