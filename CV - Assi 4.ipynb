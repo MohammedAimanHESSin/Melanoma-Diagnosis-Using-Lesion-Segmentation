{
 "cells": [
  {
   "cell_type": "code",
   "execution_count": 9,
   "id": "b5aface8",
   "metadata": {},
   "outputs": [],
   "source": [
    "import numpy as np \n",
    "import pandas as pd \n",
    "import cv2\n",
    "from PIL import Image\n",
    "import matplotlib.pyplot as plt\n",
    "import pandas as pd\n",
    "from skimage.transform import resize\n",
    "import tensorflow as tf\n",
    "import sklearn.model_selection\n",
    "from keras.callbacks import ModelCheckpoint, EarlyStopping ,ReduceLROnPlateau\n",
    "from keras.layers.merge import concatenate\n",
    "#from keras.layers import Input, Conv2D, Conv2DTranspose, MaxPooling2D, concatenate, Dropout , RepeatVector , Reshape\n",
    "from keras.preprocessing.image import ImageDataGenerator, array_to_img, img_to_array, load_img \n",
    "from tensorflow.keras.preprocessing import image_dataset_from_directory\n",
    "from keras import backend as K\n",
    "from keras.layers.core import Lambda, RepeatVector, Reshape\n",
    "import os"
   ]
  },
  {
   "cell_type": "code",
   "execution_count": 2,
   "id": "c5b9e571",
   "metadata": {},
   "outputs": [],
   "source": [
    "train_images_path = \"E:\\kolia\\Term 9\\Computer Vision\\Assi\\Assi 4\\ISIC-2017_Training_Data\\ISIC-2017_Training_Data\" \n",
    "train_mask_path = \"E:\\kolia\\Term 9\\Computer Vision\\Assi\\Assi 4\\ISIC-2017_Training_Part1_GroundTruth\\ISIC-2017_Training_Part1_GroundTruth\"\n",
    "train_metadata_path = \"E:\\kolia\\Term 9\\Computer Vision\\Assi\\Assi 4\\ISIC-2017_Training_Data\\ISIC-2017_Training_Data\\ISIC-2017_Training_Data_metadata.csv\"\n",
    "\n",
    "val_images_path = \"E:\\kolia\\Term 9\\Computer Vision\\Assi\\Assi 4\\ISIC-2017_Validation_Data\\ISIC-2017_Validation_Data\"\n",
    "val_mask_path = \"E:\\kolia\\Term 9\\Computer Vision\\Assi\\Assi 4\\ISIC-2017_Validation_Part1_GroundTruth\\ISIC-2017_Validation_Part1_GroundTruth\"\n",
    "val_metadata_path = \"E:\\kolia\\Term 9\\Computer Vision\\Assi\\Assi 4\\ISIC-2017_Validation_Data\\ISIC-2017_Validation_Data\\ISIC-2017_Validation_Data_metadata.csv\"\n",
    "\n",
    "test_images_path = \"E:\\kolia\\Term 9\\Computer Vision\\Assi\\Assi 4\\ISIC-2017_Test_v2_Data\\ISIC-2017_Test_v2_Data\"\n",
    "test_mask_path = \"E:\\kolia\\Term 9\\Computer Vision\\Assi\\Assi 4\\ISIC-2017_Test_v2_Part1_GroundTruth\\ISIC-2017_Test_v2_Part1_GroundTruth\"\n",
    "test_metadata_path = \"E:\\kolia\\Term 9\\Computer Vision\\Assi\\Assi 4\\ISIC-2017_Test_v2_Data\\ISIC-2017_Test_v2_Data\\ISIC-2017_Test_v2_Data_metadata.csv\" "
   ]
  },
  {
   "cell_type": "code",
   "execution_count": 3,
   "id": "53ccb8ed",
   "metadata": {},
   "outputs": [],
   "source": [
    "def read_metadata(path):\n",
    "    metadata_Dataframe = pd.read_csv(path)\n",
    "    metadata_Dataframe.head()\n",
    "    return metadata_Dataframe"
   ]
  },
  {
   "cell_type": "code",
   "execution_count": 4,
   "id": "2c3ee969",
   "metadata": {},
   "outputs": [],
   "source": [
    "def load_images_from_folder(path,ids):\n",
    "    images = []\n",
    "    for imageId in ids:\n",
    "        images.append( cv2.resize(cv2.imread(os.path.join(path,imageId+'.jpg')), (567,822), interpolation = cv2.INTER_AREA) )\n",
    "    return np.array(images)"
   ]
  },
  {
   "cell_type": "code",
   "execution_count": 5,
   "id": "c2d7eb02",
   "metadata": {},
   "outputs": [],
   "source": [
    "def load_masks_from_folder(path,ids):\n",
    "    images = []\n",
    "    for imageId in ids:\n",
    "        img = cv2.imread(os.path.join(path,imageId+'_segmentation.png'))        \n",
    "        img = tf.image.resize(img, (567,822), method='nearest')\n",
    "        img = tf.image.rgb_to_grayscale(img) / 255\n",
    "        if img is not None:\n",
    "            images.append(img)\n",
    "    return np.array(images)"
   ]
  },
  {
   "cell_type": "code",
   "execution_count": null,
   "id": "362e2112",
   "metadata": {},
   "outputs": [],
   "source": [
    "train_metadata = read_metadata(train_metadata_path)\n",
    "val_metadata = read_metadata(val_metadata_path)\n",
    "train_images_ids = train_metadata['image_id']\n",
    "val_images_ids = val_metadata['image_id']\n",
    "\n",
    "load_images_from_folder(train_images_path,train_images_ids)\n",
    "load_masks_from_folder(train_mask_path,train_images_ids)"
   ]
  },
  {
   "cell_type": "code",
   "execution_count": null,
   "id": "4a9b1d2c",
   "metadata": {},
   "outputs": [],
   "source": [
    "image = cv2.imread('E:\\kolia\\Term 9\\Computer Vision\\Assi\\Assi 4\\ISIC-2017_Training_Data\\ISIC-2017_Training_Data\\ISIC_0000000.jpg')\n",
    "plt.figure()\n",
    "plt.imshow(train_metadata[0])\n",
    "plt.figure()\n",
    "plt.imshow(val_metadata[0])\n",
    "image.shape"
   ]
  },
  {
   "cell_type": "code",
   "execution_count": null,
   "id": "72ea73a8",
   "metadata": {},
   "outputs": [],
   "source": []
  }
 ],
 "metadata": {
  "kernelspec": {
   "display_name": "Python 3 (ipykernel)",
   "language": "python",
   "name": "python3"
  },
  "language_info": {
   "codemirror_mode": {
    "name": "ipython",
    "version": 3
   },
   "file_extension": ".py",
   "mimetype": "text/x-python",
   "name": "python",
   "nbconvert_exporter": "python",
   "pygments_lexer": "ipython3",
   "version": "3.9.7"
  }
 },
 "nbformat": 4,
 "nbformat_minor": 5
}
